{
 "cells": [
  {
   "cell_type": "code",
   "execution_count": 1,
   "metadata": {
    "ExecuteTime": {
     "end_time": "2018-06-19T22:39:01.290427Z",
     "start_time": "2018-06-19T22:38:56.739050Z"
    }
   },
   "outputs": [
    {
     "name": "stderr",
     "output_type": "stream",
     "text": [
      "/Users/tkind/anaconda3/lib/python3.6/site-packages/h5py/__init__.py:36: FutureWarning: Conversion of the second argument of issubdtype from `float` to `np.floating` is deprecated. In future, it will be treated as `np.float64 == np.dtype(float).type`.\n",
      "  from ._conv import register_converters as _register_converters\n",
      "Using TensorFlow backend.\n"
     ]
    }
   ],
   "source": [
    "import pandas as pd\n",
    "from time import time\n",
    "from datetime import datetime\n",
    "import numpy as np\n",
    "from sklearn.preprocessing import minmax_scale, MinMaxScaler\n",
    "from scipy.stats import linregress\n",
    "from matplotlib import pyplot\n",
    "import seaborn as sns\n",
    "sns.set_style('ticks')\n",
    "\n",
    "from keras.models import Sequential, Model\n",
    "from keras.layers import Flatten, Dense, Conv1D, Input, Reshape, Dropout, LeakyReLU, MaxPooling1D\n",
    "from keras.optimizers import Adam, RMSprop, Nadam, SGD, Adagrad\n",
    "from keras.utils import plot_model\n",
    "from keras.callbacks import TensorBoard, ModelCheckpoint, ReduceLROnPlateau\n",
    "from keras.layers.merge import concatenate"
   ]
  },
  {
   "cell_type": "code",
   "execution_count": 2,
   "metadata": {
    "ExecuteTime": {
     "end_time": "2018-06-19T22:39:01.359143Z",
     "start_time": "2018-06-19T22:39:01.292634Z"
    }
   },
   "outputs": [],
   "source": [
    "def frame_to_features(df, time_in, time_out):\n",
    "    f = []\n",
    "    n_features = len(df.columns)\n",
    "    for i in range(time_in+1, len(andf)-time_out):\n",
    "        # reshape input to be 3D [samples, timesteps, features]\n",
    "        f.append([\n",
    "            df.iloc[i - time_in:i].values,\n",
    "            #             df['Open'].iloc[i - time_out + 2:i + 2].values\n",
    "            (df['Open'].iloc[i+time_out-1] > df['Open'].iloc[i+time_out])\n",
    "        ])\n",
    "    return f\n",
    "\n",
    "def data():\n",
    "    \"\"\"\n",
    "    Data providing function:\n",
    "\n",
    "    This function is separated from create_model() so that hyperopt\n",
    "    won't reload data for each evaluation run.\n",
    "    \"\"\"\n",
    "    \n",
    "    raw_df = pd.read_csv('data/history/ADABTC.csv')\n",
    "    ndf = raw_df.filter(items=['Open', 'High', 'Low', 'Close', 'Volume', 'Number Trades', 'Quote Asset Volume', 'Taker Base Asset Volume', 'Taker Quote Asset Volume'])\n",
    "    ndf = ndf.set_index(pd.to_datetime(raw_df['Open Time'],unit='ms'))\n",
    "    ndf.dropna(inplace=True)\n",
    "    andf = ndf.apply(lambda c: minmax_scale(X=c, feature_range=(0, 1)))\n",
    "    \n",
    "    history_length = 50\n",
    "    prediction_length = 1\n",
    "    fs = frame_to_features(andf, history_length, prediction_length)\n",
    "\n",
    "    # split into train and test sets\n",
    "    train = [x[0] for x in fs]\n",
    "    test = [x[1] for x in fs]\n",
    "    # split into input and outputs\n",
    "    train_X, test_X = np.array(train[:int(len(train)*0.7)]), np.array(train[int(len(train)*0.7):])\n",
    "    train_y = np.array(test[:int(len(test)*0.7)])\n",
    "    test_y  = np.array(test[int(len(test)*0.7):])\n",
    "    return train_X, train_y, test_X, test_y"
   ]
  },
  {
   "cell_type": "code",
   "execution_count": 3,
   "metadata": {
    "ExecuteTime": {
     "end_time": "2018-06-19T22:39:01.850408Z",
     "start_time": "2018-06-19T22:39:01.361398Z"
    }
   },
   "outputs": [],
   "source": [
    "from hyperas import optim\n",
    "from hyperas.distributions import choice, uniform, randint\n",
    "\n",
    "from hyperopt import Trials, STATUS_OK, tpe\n",
    "\n",
    "def make_model():\n",
    "    \n",
    "    optimizer = {{choice(['rmsprop', 'adam', 'sgd'])}}\n",
    "\n",
    "    def get_lr_metric(optimizer):\n",
    "        def lr(y_true, y_pred):\n",
    "            return optimizer.lr\n",
    "\n",
    "        return lr\n",
    "\n",
    "\n",
    "    lr_metric = get_lr_metric(optimizer)\n",
    "    \n",
    "    activation = {{choice(['linear', 'tanh', 'relu'])}}\n",
    "    conv_pooling = {{ranint(1, 10)}}\n",
    "    conv_pooling_kernel_length = {{ranint(1, 1000)}}\n",
    "    conv_pool_size = {{ranint(1, 10)}}\n",
    "    conv_end = {{ranint(0, 10)}}\n",
    "    conv_end_kernel_length = {{ranint(1, 1000)}}\n",
    "    dense_end = {{ranint(1, 10)}}\n",
    "    \n",
    "\n",
    "    history_cnn_input = Input(shape=(train_X.shape[1], train_X.shape[2]))\n",
    "    for x in reversed(range(conv_pooling)):\n",
    "        if x == conv_pooling:\n",
    "            history_cnn_out = Conv1D(filters=2^x, kernel_size=conv_pooling_kernel_length, padding='same', activation=activation)(history_cnn_input)\n",
    "            history_cnn_out = MaxPooling1D(pool_size=conv_pool_size)(history_cnn_out)\n",
    "        else:\n",
    "            history_cnn_out = Conv1D(filters=2^x, kernel_size=conv_pooling_kernel_length, padding='same', activation=activation)(history_cnn_out)\n",
    "            history_cnn_out = MaxPooling1D(pool_size=conv_pool_size)(history_cnn_out)\n",
    "    \n",
    "    for x in reversed(range(conv_end)):\n",
    "        history_cnn_out = Conv1D(filters=16, kernel_size=conv_end_kernel_length, padding='same', activation=activation)(history_cnn_out)\n",
    "    \n",
    "    history_cnn_out = Flatten()(history_cnn_out)\n",
    "    for x in reversed(range(dense)): \n",
    "        history_cnn_out = Dense(int(10 * x), activation=activation)(history_cnn_out)\n",
    "        \n",
    "    history_cnn_out = Dense(prediction_length, activation='linear')(history_cnn_out)\n",
    "    brain = Model(input=history_cnn_input, output=history_cnn_out)\n",
    "    \n",
    "    brain.compile(optimizer = optimizer, loss='mse', metrics=['mse', lr_metric])\n",
    "#     print(brain.summary())\n",
    "    \n",
    "    # fit network\n",
    "    TB = TensorBoard(log_dir='./TBlogs/'+ datetime.now().strftime(\"%Y%m%d-%H%M%S\"), histogram_freq=5, batch_size=64, write_graph=False, write_grads=True, write_images=True)\n",
    "\n",
    "    # reduceLR = ReduceLROnPlateau(monitor='loss', patience=1, verbose=1, factor=0.1, min_lr=0.0001)\n",
    "    brain.fit(train_X, train_y, epochs=10, batch_size={{choice([16, 64, 256])}}, validation_data=(test_X, test_y), verbose=1, shuffle=True, callbacks=[TB])\n",
    "    \n",
    "    score, lr = model.evaluate(x_test, y_test, verbose=0)\n",
    "    print('Test loss:', score)\n",
    "    return {'loss': -score, 'status': STATUS_OK, 'model': brain}"
   ]
  },
  {
   "cell_type": "code",
   "execution_count": 4,
   "metadata": {
    "ExecuteTime": {
     "end_time": "2018-06-19T22:39:02.301008Z",
     "start_time": "2018-06-19T22:39:01.852802Z"
    },
    "scrolled": true
   },
   "outputs": [
    {
     "ename": "FileNotFoundError",
     "evalue": "[Errno 2] No such file or directory: '/Users/tkind/personal/binance-bot/<ipython-input-4-a147cbd85219>'",
     "output_type": "error",
     "traceback": [
      "\u001b[0;31m---------------------------------------------------------------------------\u001b[0m",
      "\u001b[0;31mFileNotFoundError\u001b[0m                         Traceback (most recent call last)",
      "\u001b[0;32m<ipython-input-4-a147cbd85219>\u001b[0m in \u001b[0;36m<module>\u001b[0;34m()\u001b[0m\n\u001b[1;32m      3\u001b[0m                                           \u001b[0malgo\u001b[0m\u001b[0;34m=\u001b[0m\u001b[0mtpe\u001b[0m\u001b[0;34m.\u001b[0m\u001b[0msuggest\u001b[0m\u001b[0;34m,\u001b[0m\u001b[0;34m\u001b[0m\u001b[0m\n\u001b[1;32m      4\u001b[0m                                           \u001b[0mmax_evals\u001b[0m\u001b[0;34m=\u001b[0m\u001b[0;36m5\u001b[0m\u001b[0;34m,\u001b[0m\u001b[0;34m\u001b[0m\u001b[0m\n\u001b[0;32m----> 5\u001b[0;31m                                           trials=Trials())\n\u001b[0m\u001b[1;32m      6\u001b[0m \u001b[0mX_train\u001b[0m\u001b[0;34m,\u001b[0m \u001b[0mY_train\u001b[0m\u001b[0;34m,\u001b[0m \u001b[0mX_test\u001b[0m\u001b[0;34m,\u001b[0m \u001b[0mY_test\u001b[0m \u001b[0;34m=\u001b[0m \u001b[0mdata\u001b[0m\u001b[0;34m(\u001b[0m\u001b[0;34m)\u001b[0m\u001b[0;34m\u001b[0m\u001b[0m\n\u001b[1;32m      7\u001b[0m \u001b[0mprint\u001b[0m\u001b[0;34m(\u001b[0m\u001b[0;34m\"Evalutation of best performing model:\"\u001b[0m\u001b[0;34m)\u001b[0m\u001b[0;34m\u001b[0m\u001b[0m\n",
      "\u001b[0;32m~/anaconda3/lib/python3.6/site-packages/hyperas/optim.py\u001b[0m in \u001b[0;36mminimize\u001b[0;34m(model, data, algo, max_evals, trials, functions, rseed, notebook_name, verbose, eval_space, return_space)\u001b[0m\n\u001b[1;32m     65\u001b[0m                                      \u001b[0mfull_model_string\u001b[0m\u001b[0;34m=\u001b[0m\u001b[0;32mNone\u001b[0m\u001b[0;34m,\u001b[0m\u001b[0;34m\u001b[0m\u001b[0m\n\u001b[1;32m     66\u001b[0m                                      \u001b[0mnotebook_name\u001b[0m\u001b[0;34m=\u001b[0m\u001b[0mnotebook_name\u001b[0m\u001b[0;34m,\u001b[0m\u001b[0;34m\u001b[0m\u001b[0m\n\u001b[0;32m---> 67\u001b[0;31m                                      verbose=verbose)\n\u001b[0m\u001b[1;32m     68\u001b[0m \u001b[0;34m\u001b[0m\u001b[0m\n\u001b[1;32m     69\u001b[0m     \u001b[0mbest_model\u001b[0m \u001b[0;34m=\u001b[0m \u001b[0;32mNone\u001b[0m\u001b[0;34m\u001b[0m\u001b[0m\n",
      "\u001b[0;32m~/anaconda3/lib/python3.6/site-packages/hyperas/optim.py\u001b[0m in \u001b[0;36mbase_minimizer\u001b[0;34m(model, data, functions, algo, max_evals, trials, rseed, full_model_string, notebook_name, verbose, stack)\u001b[0m\n\u001b[1;32m     94\u001b[0m         \u001b[0mmodel_str\u001b[0m \u001b[0;34m=\u001b[0m \u001b[0mfull_model_string\u001b[0m\u001b[0;34m\u001b[0m\u001b[0m\n\u001b[1;32m     95\u001b[0m     \u001b[0;32melse\u001b[0m\u001b[0;34m:\u001b[0m\u001b[0;34m\u001b[0m\u001b[0m\n\u001b[0;32m---> 96\u001b[0;31m         \u001b[0mmodel_str\u001b[0m \u001b[0;34m=\u001b[0m \u001b[0mget_hyperopt_model_string\u001b[0m\u001b[0;34m(\u001b[0m\u001b[0mmodel\u001b[0m\u001b[0;34m,\u001b[0m \u001b[0mdata\u001b[0m\u001b[0;34m,\u001b[0m \u001b[0mfunctions\u001b[0m\u001b[0;34m,\u001b[0m \u001b[0mnotebook_name\u001b[0m\u001b[0;34m,\u001b[0m \u001b[0mverbose\u001b[0m\u001b[0;34m,\u001b[0m \u001b[0mstack\u001b[0m\u001b[0;34m)\u001b[0m\u001b[0;34m\u001b[0m\u001b[0m\n\u001b[0m\u001b[1;32m     97\u001b[0m     \u001b[0mtemp_file\u001b[0m \u001b[0;34m=\u001b[0m \u001b[0;34m'./temp_model.py'\u001b[0m\u001b[0;34m\u001b[0m\u001b[0m\n\u001b[1;32m     98\u001b[0m     \u001b[0mwrite_temp_files\u001b[0m\u001b[0;34m(\u001b[0m\u001b[0mmodel_str\u001b[0m\u001b[0;34m,\u001b[0m \u001b[0mtemp_file\u001b[0m\u001b[0;34m)\u001b[0m\u001b[0;34m\u001b[0m\u001b[0m\n",
      "\u001b[0;32m~/anaconda3/lib/python3.6/site-packages/hyperas/optim.py\u001b[0m in \u001b[0;36mget_hyperopt_model_string\u001b[0;34m(model, data, functions, notebook_name, verbose, stack)\u001b[0m\n\u001b[1;32m    176\u001b[0m     \u001b[0;32melse\u001b[0m\u001b[0;34m:\u001b[0m\u001b[0;34m\u001b[0m\u001b[0m\n\u001b[1;32m    177\u001b[0m         \u001b[0mcalling_script_file\u001b[0m \u001b[0;34m=\u001b[0m \u001b[0mos\u001b[0m\u001b[0;34m.\u001b[0m\u001b[0mpath\u001b[0m\u001b[0;34m.\u001b[0m\u001b[0mabspath\u001b[0m\u001b[0;34m(\u001b[0m\u001b[0minspect\u001b[0m\u001b[0;34m.\u001b[0m\u001b[0mstack\u001b[0m\u001b[0;34m(\u001b[0m\u001b[0;34m)\u001b[0m\u001b[0;34m[\u001b[0m\u001b[0mstack\u001b[0m\u001b[0;34m]\u001b[0m\u001b[0;34m[\u001b[0m\u001b[0;36m1\u001b[0m\u001b[0;34m]\u001b[0m\u001b[0;34m)\u001b[0m\u001b[0;34m\u001b[0m\u001b[0m\n\u001b[0;32m--> 178\u001b[0;31m         \u001b[0;32mwith\u001b[0m \u001b[0mopen\u001b[0m\u001b[0;34m(\u001b[0m\u001b[0mcalling_script_file\u001b[0m\u001b[0;34m,\u001b[0m \u001b[0;34m'r'\u001b[0m\u001b[0;34m)\u001b[0m \u001b[0;32mas\u001b[0m \u001b[0mf\u001b[0m\u001b[0;34m:\u001b[0m\u001b[0;34m\u001b[0m\u001b[0m\n\u001b[0m\u001b[1;32m    179\u001b[0m             \u001b[0msource\u001b[0m \u001b[0;34m=\u001b[0m \u001b[0mf\u001b[0m\u001b[0;34m.\u001b[0m\u001b[0mread\u001b[0m\u001b[0;34m(\u001b[0m\u001b[0;34m)\u001b[0m\u001b[0;34m\u001b[0m\u001b[0m\n\u001b[1;32m    180\u001b[0m \u001b[0;34m\u001b[0m\u001b[0m\n",
      "\u001b[0;31mFileNotFoundError\u001b[0m: [Errno 2] No such file or directory: '/Users/tkind/personal/binance-bot/<ipython-input-4-a147cbd85219>'"
     ]
    }
   ],
   "source": [
    "best_run, best_model = optim.minimize(model=make_model,\n",
    "                                          data=data,\n",
    "                                          algo=tpe.suggest,\n",
    "                                          max_evals=5,\n",
    "                                          trials=Trials())\n",
    "X_train, Y_train, X_test, Y_test = data()\n",
    "print(\"Evalutation of best performing model:\")\n",
    "print(best_model.evaluate(X_test, Y_test))\n",
    "print(\"Best performing model chosen hyper-parameters:\")\n",
    "print(best_run)"
   ]
  }
 ],
 "metadata": {
  "kernelspec": {
   "display_name": "Python 3",
   "language": "python",
   "name": "python3"
  },
  "language_info": {
   "codemirror_mode": {
    "name": "ipython",
    "version": 3
   },
   "file_extension": ".py",
   "mimetype": "text/x-python",
   "name": "python",
   "nbconvert_exporter": "python",
   "pygments_lexer": "ipython3",
   "version": "3.6.5"
  }
 },
 "nbformat": 4,
 "nbformat_minor": 2
}
