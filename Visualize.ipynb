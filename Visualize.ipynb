{
 "cells": [
  {
   "cell_type": "code",
   "execution_count": 1,
   "metadata": {
    "ExecuteTime": {
     "end_time": "2018-08-24T22:21:05.322922Z",
     "start_time": "2018-08-24T22:21:03.149593Z"
    },
    "hide_input": true
   },
   "outputs": [
    {
     "data": {
      "text/html": [
       "<script>requirejs.config({paths: { 'plotly': ['https://cdn.plot.ly/plotly-latest.min']},});if(!window.Plotly) {{require(['plotly'],function(plotly) {window.Plotly=plotly;});}}</script>"
      ],
      "text/vnd.plotly.v1+html": [
       "<script>requirejs.config({paths: { 'plotly': ['https://cdn.plot.ly/plotly-latest.min']},});if(!window.Plotly) {{require(['plotly'],function(plotly) {window.Plotly=plotly;});}}</script>"
      ]
     },
     "metadata": {},
     "output_type": "display_data"
    }
   ],
   "source": [
    "import pandas as pd\n",
    "from sklearn.preprocessing import minmax_scale\n",
    "import numpy as np\n",
    "import plotly.offline as py\n",
    "import plotly.graph_objs as go\n",
    "py.init_notebook_mode(connected=True)"
   ]
  },
  {
   "cell_type": "code",
   "execution_count": null,
   "metadata": {
    "ExecuteTime": {
     "start_time": "2018-08-24T22:21:03.132Z"
    },
    "hide_input": true
   },
   "outputs": [
    {
     "name": "stdout",
     "output_type": "stream",
     "text": [
      "Using TensorFlow backend.\n",
      "Namespace(test=True, train=False)\n",
      "__________________________________________________________________________________________________\n",
      "Layer (type)                    Output Shape         Param #     Connected to                     \n",
      "==================================================================================================\n",
      "input_1 (InputLayer)            (None, 20, 5)        0                                            \n",
      "__________________________________________________________________________________________________\n",
      "nalu_1 (NALU)                   (None, 20, 50)       750         input_1[0][0]                    \n",
      "__________________________________________________________________________________________________\n",
      "dense_1 (Dense)                 (None, 20, 50)       300         input_1[0][0]                    \n",
      "__________________________________________________________________________________________________\n",
      "nalu_2 (NALU)                   (None, 20, 25)       3750        nalu_1[0][0]                     \n",
      "__________________________________________________________________________________________________\n",
      "dense_2 (Dense)                 (None, 20, 25)       1275        dense_1[0][0]                    \n",
      "__________________________________________________________________________________________________\n",
      "nalu_3 (NALU)                   (None, 20, 15)       1125        nalu_2[0][0]                     \n",
      "__________________________________________________________________________________________________\n",
      "dense_3 (Dense)                 (None, 20, 15)       390         dense_2[0][0]                    \n",
      "__________________________________________________________________________________________________\n",
      "gru_1 (GRU)                     (None, 25)           3075        nalu_3[0][0]                     \n",
      "__________________________________________________________________________________________________\n",
      "gru_2 (GRU)                     (None, 25)           3075        dense_3[0][0]                    \n",
      "__________________________________________________________________________________________________\n",
      "concatenate_1 (Concatenate)     (None, 50)           0           gru_1[0][0]                      \n",
      "                                                                 gru_2[0][0]                      \n",
      "__________________________________________________________________________________________________\n",
      "dense_4 (Dense)                 (None, 50)           2550        concatenate_1[0][0]              \n",
      "__________________________________________________________________________________________________\n",
      "dense_5 (Dense)                 (None, 25)           1275        dense_4[0][0]                    \n",
      "__________________________________________________________________________________________________\n",
      "dense_6 (Dense)                 (None, 10)           260         dense_5[0][0]                    \n",
      "__________________________________________________________________________________________________\n",
      "dense_7 (Dense)                 (None, 2)            22          dense_6[0][0]                    \n",
      "==================================================================================================\n",
      "Total params: 17,847\n",
      "Trainable params: 17,847\n",
      "Non-trainable params: 0\n",
      "__________________________________________________________________________________________________\n",
      "None\n",
      "2018-08-24 16:21:09.266865: I tensorflow/core/platform/cpu_feature_guard.cc:141] Your CPU supports instructions that this TensorFlow binary was not compiled to use: AVX2 FMA\n",
      "source: data/history/ADABTC.csv\n",
      "Running episode:  97%|██████████████████▍| 53767/55256 [02:38<00:04, 328.30it/s]"
     ]
    }
   ],
   "source": [
    "!python agents/lstm.py --test"
   ]
  },
  {
   "cell_type": "code",
   "execution_count": null,
   "metadata": {
    "ExecuteTime": {
     "start_time": "2018-08-24T22:21:03.134Z"
    },
    "hide_input": true
   },
   "outputs": [],
   "source": [
    "run = pd.read_csv('agents/save/dqn_run.csv')\n",
    "mmrun = pd.DataFrame(minmax_scale(run), columns=run.columns)"
   ]
  },
  {
   "cell_type": "code",
   "execution_count": null,
   "metadata": {
    "ExecuteTime": {
     "start_time": "2018-08-24T22:21:03.139Z"
    },
    "hide_input": true
   },
   "outputs": [],
   "source": [
    "data = [\n",
    "    go.Scatter(\n",
    "        x=list(range(0, len(run))),\n",
    "        y=run['open'].pct_change(periods=1000),\n",
    "        name='pct 1000'),\n",
    "    go.Scatter(\n",
    "        x=list(range(0, len(run))),\n",
    "        y=run['open'].pct_change(periods=100),\n",
    "        name='pct 100'),\n",
    "    go.Scatter(\n",
    "        x=list(range(0, len(run))),\n",
    "        y=run['open'].pct_change(periods=10),\n",
    "        name='pct 10'),\n",
    "    go.Scatter(\n",
    "        x=list(range(0, len(run))),\n",
    "        y=run['open'].pct_change(periods=1),\n",
    "        name='pct 1')\n",
    "]\n",
    "s = [{\n",
    "    'type': 'line',\n",
    "    'x0': 0,\n",
    "    'y0': 0.01,\n",
    "    'x1': len(run),\n",
    "    'y1': 0.01,\n",
    "    'opacity': 1.0,\n",
    "    'line': {\n",
    "        'color': 'rgb(0, 0, 0)',\n",
    "        'width': 1\n",
    "    }\n",
    "},{\n",
    "    'type': 'line',\n",
    "    'x0': 0,\n",
    "    'y0': -0.01,\n",
    "    'x1': len(run),\n",
    "    'y1': -0.01,\n",
    "    'opacity': 1.0,\n",
    "    'line': {\n",
    "        'color': 'rgb(0, 0, 0)',\n",
    "        'width': 1\n",
    "    }\n",
    "}]\n",
    "\n",
    "layout = {'shapes': s}\n",
    "py.iplot({'data': data, 'layout': layout})"
   ]
  },
  {
   "cell_type": "code",
   "execution_count": null,
   "metadata": {
    "ExecuteTime": {
     "start_time": "2018-08-24T22:21:03.143Z"
    },
    "hide_input": true
   },
   "outputs": [],
   "source": [
    "yd = mmrun['open']\n",
    "data = [\n",
    "    go.Scatter(\n",
    "        x=list(range(0, len(run))),\n",
    "        y=mmrun['total_reward'],\n",
    "        name='Total Reward'\n",
    "    ),\n",
    "    go.Scatter(\n",
    "        x=list(range(0, len(run))),\n",
    "        y=run['total_value'],\n",
    "        name='Total Value'\n",
    "    ),\n",
    "    go.Scatter(\n",
    "        x=list(range(0, len(run))),\n",
    "        y=yd,\n",
    "        name='Open'\n",
    "    )\n",
    "]\n",
    "s = []\n",
    "for e, i in enumerate(run['action']):\n",
    "    if i == 0 and run['swap'].iloc[e] == 1:\n",
    "        s += [{\n",
    "            'type': 'line',\n",
    "            'x0': e,\n",
    "            'y0': 0,\n",
    "            'x1': e,\n",
    "            'y1': yd.iloc[e]*1.1,\n",
    "            'opacity': 1,\n",
    "            'line': {\n",
    "                'color': 'rgb(100, 255, 100)',\n",
    "                'width': 1,\n",
    "            }\n",
    "        }]\n",
    "    elif i == 0 and run['swap'].iloc[e] == 0:\n",
    "        s += [{\n",
    "            'type': 'line',\n",
    "            'x0': e,\n",
    "            'y0': 0,\n",
    "            'x1': e,\n",
    "            'y1': yd.iloc[e]*1.1,\n",
    "            'opacity': 1,\n",
    "            'line': {\n",
    "                'color': 'rgb(255, 100, 100)',\n",
    "                'width': 1,\n",
    "            }\n",
    "        }]\n",
    "layout = {\n",
    "    'shapes': s\n",
    "    }\n",
    "py.iplot({'data': data, 'layout': layout})"
   ]
  },
  {
   "cell_type": "code",
   "execution_count": null,
   "metadata": {
    "ExecuteTime": {
     "start_time": "2018-08-24T22:21:03.147Z"
    },
    "hide_input": true
   },
   "outputs": [],
   "source": [
    "yd = mmrun['open']\n",
    "data = [\n",
    "    go.Scatter(\n",
    "        x=list(range(0, len(run))),\n",
    "        y=mmrun['trade_act_values'],\n",
    "        name='Trade minmaxed'\n",
    "    ),\n",
    "    go.Scatter(\n",
    "        x=list(range(0, len(run))),\n",
    "        y=mmrun['hold_act_values'],\n",
    "        name='Hold minmaxed'\n",
    "    ),\n",
    "    go.Scatter(\n",
    "        x=list(range(0, len(run))),\n",
    "        y=yd,\n",
    "        name='Open minmaxed'\n",
    "    )\n",
    "]\n",
    "s = []\n",
    "for e, i in enumerate(run['action']):\n",
    "    if i == 0 and run['swap'].iloc[e] == 1:\n",
    "        s += [{\n",
    "            'type': 'line',\n",
    "            'x0': e,\n",
    "            'y0': 0,\n",
    "            'x1': e,\n",
    "            'y1': yd.iloc[e]*1.1,\n",
    "            'opacity': 1,\n",
    "            'line': {\n",
    "                'color': 'rgb(100, 255, 100)',\n",
    "                'width': 1,\n",
    "            }\n",
    "        }]\n",
    "    elif i == 0 and run['swap'].iloc[e] == 0:\n",
    "        s += [{\n",
    "            'type': 'line',\n",
    "            'x0': e,\n",
    "            'y0': 0,\n",
    "            'x1': e,\n",
    "            'y1': yd.iloc[e]*1.1,\n",
    "            'opacity': 1,\n",
    "            'line': {\n",
    "                'color': 'rgb(255, 100, 100)',\n",
    "                'width': 1,\n",
    "            }\n",
    "        }]\n",
    "layout = {\n",
    "    'shapes': s\n",
    "    }\n",
    "py.iplot({'data': data, 'layout': layout})"
   ]
  },
  {
   "cell_type": "code",
   "execution_count": null,
   "metadata": {
    "ExecuteTime": {
     "start_time": "2018-08-24T22:21:03.152Z"
    },
    "hide_input": true
   },
   "outputs": [],
   "source": [
    "yd = mmrun['open']\n",
    "data = [\n",
    "    go.Scatter(\n",
    "        x=list(range(0, len(run))),\n",
    "        y=run['reward'],\n",
    "        name='Reward'\n",
    "    ),\n",
    "    go.Scatter(\n",
    "        x=list(range(0, len(run))),\n",
    "        y=run['trade_act_values'],\n",
    "        name='Trade'\n",
    "    ),\n",
    "    go.Scatter(\n",
    "        x=list(range(0, len(run))),\n",
    "        y=run['hold_act_values'],\n",
    "        name='Hold'\n",
    "    ),\n",
    "    go.Scatter(\n",
    "        x=list(range(0, len(run))),\n",
    "        y=yd,\n",
    "        name='Open'\n",
    "    ),\n",
    "    go.Scatter(\n",
    "        x=list(range(0, len(run))),\n",
    "        y=run['total_value'],\n",
    "        name='BTC'\n",
    "    ),\n",
    "]\n",
    "s = []\n",
    "for e, i in enumerate(run['action']):\n",
    "    if i == 0 and run['swap'].iloc[e] == 1:\n",
    "        s += [{\n",
    "            'type': 'line',\n",
    "            'x0': e,\n",
    "            'y0': 0,\n",
    "            'x1': e,\n",
    "            'y1': yd.iloc[e]*1.1,\n",
    "            'opacity': 1,\n",
    "            'line': {\n",
    "                'color': 'rgb(100, 255, 100)',\n",
    "                'width': 1,\n",
    "            }\n",
    "        }]\n",
    "    elif i == 0 and run['swap'].iloc[e] == 0:\n",
    "        s += [{\n",
    "            'type': 'line',\n",
    "            'x0': e,\n",
    "            'y0': 0,\n",
    "            'x1': e,\n",
    "            'y1': yd.iloc[e]*1.1,\n",
    "            'opacity': 1,\n",
    "            'line': {\n",
    "                'color': 'rgb(255, 100, 100)',\n",
    "                'width': 1,\n",
    "            }\n",
    "        }]\n",
    "layout = {\n",
    "    'shapes': s\n",
    "    }\n",
    "py.iplot({'data': data, 'layout': layout})"
   ]
  },
  {
   "cell_type": "code",
   "execution_count": null,
   "metadata": {},
   "outputs": [],
   "source": []
  }
 ],
 "metadata": {
  "kernelspec": {
   "display_name": "Python 3",
   "language": "python",
   "name": "python3"
  },
  "language_info": {
   "codemirror_mode": {
    "name": "ipython",
    "version": 3
   },
   "file_extension": ".py",
   "mimetype": "text/x-python",
   "name": "python",
   "nbconvert_exporter": "python",
   "pygments_lexer": "ipython3",
   "version": "3.6.6"
  },
  "notify_time": "0"
 },
 "nbformat": 4,
 "nbformat_minor": 2
}
