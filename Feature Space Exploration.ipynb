{
 "cells": [
  {
   "cell_type": "code",
   "execution_count": 11,
   "metadata": {
    "ExecuteTime": {
     "end_time": "2018-06-07T20:49:08.852426Z",
     "start_time": "2018-06-07T20:49:04.536040Z"
    }
   },
   "outputs": [
    {
     "name": "stdout",
     "output_type": "stream",
     "text": [
      "INFO: Successfully Finished Getting Historical Data\n"
     ]
    }
   ],
   "source": [
    "import itertools\n",
    "import math\n",
    "import multiprocessing\n",
    "import random\n",
    "import time\n",
    "import ast\n",
    "from copy import deepcopy\n",
    "\n",
    "import matplotlib.pyplot as plt\n",
    "import numpy as np\n",
    "import pandas as pd\n",
    "from sklearn.decomposition import PCA\n",
    "from sklearn.preprocessing import StandardScaler\n",
    "\n",
    "import utilities\n",
    "from Bot import Bot\n",
    "\n",
    "bot = Bot(online=False, optimize=True)"
   ]
  },
  {
   "cell_type": "code",
   "execution_count": 2,
   "metadata": {
    "ExecuteTime": {
     "end_time": "2018-06-06T19:01:21.168540Z",
     "start_time": "2018-06-06T19:01:21.160205Z"
    }
   },
   "outputs": [
    {
     "data": {
      "text/plain": [
       "0"
      ]
     },
     "execution_count": 2,
     "metadata": {},
     "output_type": "execute_result"
    }
   ],
   "source": [
    "space = 1\n",
    "# [1, 12] Integers\n",
    "space *= len(np.arange(1, 12, 1))+1\n",
    "# [1.0030, 1.0500] 4 Decimal places\n",
    "space *= len(np.arange(1.0030, 1.0500, 0.0001))+1\n",
    "# [0.000, 0.050] 3 Decimal places\n",
    "space *= len(np.arange(0, 0.05, 0.001))+1\n",
    "# [0.9500, 0.9999] # 4 Decimal places\n",
    "space *= len(np.arange(0.9500, 0.9999, 0.0001))+1\n",
    "# [0.001, 1.000] 3 Decimal Places\n",
    "space *= len(np.arange(0.001, 1, 0.001))+1\n",
    "# [0.000, 0.999] 3 Decimal Places\n",
    "space *= len(np.arange(0.001, 0.999, 0.001))+1\n",
    "\n",
    "# These 3 need to sum to 1.0 or close to. 0.999 works too.\n",
    "# [0.000, 0.999] 3 Decimal Places\n",
    "space *= len(np.arange(0.001, 0.999, 0.001))+1\n",
    "# [0.000, 0.999] 3 Decimal Places\n",
    "space *= len(np.arange(0.001, 0.999, 0.001))+1\n",
    "# [0.000, 0.999] 3 Decimal Places\n",
    "space *= len(np.arange(0.001, 0.999, 0.001))+1\n",
    "space"
   ]
  },
  {
   "cell_type": "markdown",
   "metadata": {},
   "source": [
    "## Feature importance extraction via extra trees ensemble model with gridsearch"
   ]
  },
  {
   "cell_type": "code",
   "execution_count": 69,
   "metadata": {
    "ExecuteTime": {
     "end_time": "2018-06-06T22:41:07.156509Z",
     "start_time": "2018-06-06T22:08:22.564786Z"
    }
   },
   "outputs": [
    {
     "name": "stdout",
     "output_type": "stream",
     "text": [
      "0 12\n",
      "1 49\n",
      "2 6509999999999946\n",
      "3 51\n",
      "4 101\n",
      "5 101999999999999945\n",
      "6 101999999999999945\n",
      "7 101999999999999945\n",
      "8 101999999999999945\n",
      "0.720999999999999945"
     ]
    },
    {
     "data": {
      "text/html": [
       "<b>limit_output extension: Maximum message size of 10000 exceeded with 10013 characters</b>"
      ]
     },
     "metadata": {},
     "output_type": "display_data"
    }
   ],
   "source": [
    "df = pd.DataFrame(\n",
    "    [[\n",
    "        10, 0.8247, 0.094, 0.9698, 0.687, 0.365, 0.362, 0.361, 0.356,\n",
    "        1.9519551477388317\n",
    "    ]],\n",
    "    columns=list('123456789F'))\n",
    "\n",
    "bg = [10, 0.8247, 0.094, 0.9698, 0.687, 0.365, 0.362, 0.361, 0.356]\n",
    "bgpm = [(1, 12, 1), (1.0030, 1.0500, 0.001), (0, 0.05, 0.01),\n",
    "        (0.9500, 0.9999, 0.001), (0.001, 1, 0.01), (0.001, 0.999, 0.01),\n",
    "        (0.001, 0.999, 0.01), (0.001, 0.999, 0.01), (0.001, 0.999, 0.01)]\n",
    "\n",
    "for i, g in enumerate(bg):\n",
    "    genes = deepcopy(bg)\n",
    "    print(i, len(np.arange(bgpm[i][0], bgpm[i][1] + bgpm[i][2], bgpm[i][2])))\n",
    "    for mu in list(np.arange(bgpm[i][0], bgpm[i][1] + bgpm[i][2], bgpm[i][2])):\n",
    "        print(mu, end=\"\\r\")\n",
    "        genes[i] = mu\n",
    "        utilities.set_optimized(genes[0], genes[1], genes[2], genes[3],\n",
    "                                genes[4], genes[5], genes[6], genes[7],\n",
    "                                genes[8])\n",
    "        fitness = bot.run_backtest(utilities.COINPAIRS[0])\n",
    "        df = df.append(\n",
    "            pd.DataFrame([genes + [fitness]], columns=list('123456789F')))"
   ]
  },
  {
   "cell_type": "code",
   "execution_count": 70,
   "metadata": {
    "ExecuteTime": {
     "end_time": "2018-06-06T22:45:10.144692Z",
     "start_time": "2018-06-06T22:45:10.132673Z"
    }
   },
   "outputs": [
    {
     "data": {
      "text/plain": [
       "1     12\n",
       "2     50\n",
       "3      7\n",
       "4     52\n",
       "5    102\n",
       "6    102\n",
       "7    102\n",
       "8    102\n",
       "9    102\n",
       "F     88\n",
       "dtype: int64"
      ]
     },
     "execution_count": 70,
     "metadata": {},
     "output_type": "execute_result"
    }
   ],
   "source": [
    "df.nunique()"
   ]
  },
  {
   "cell_type": "code",
   "execution_count": 71,
   "metadata": {
    "ExecuteTime": {
     "end_time": "2018-06-06T22:45:29.480242Z",
     "start_time": "2018-06-06T22:45:27.815921Z"
    }
   },
   "outputs": [
    {
     "name": "stdout",
     "output_type": "stream",
     "text": [
      "[0.109 0.233 0.099 0.08  0.074 0.141 0.119 0.143]\n"
     ]
    }
   ],
   "source": [
    "# Feature Importance with Extra Trees Classifier\n",
    "from sklearn.ensemble import ExtraTreesClassifier\n",
    "array = dataframe.values\n",
    "X = array[:,0:8]\n",
    "Y = array[:,8]\n",
    "\n",
    "model = ExtraTreesClassifier(n_estimators=1000)\n",
    "model.fit(X, Y)\n",
    "print(model.feature_importances_)"
   ]
  },
  {
   "cell_type": "markdown",
   "metadata": {},
   "source": [
    "## Feature importance extraction via extra trees ensemble model using GA"
   ]
  },
  {
   "cell_type": "code",
   "execution_count": 2,
   "metadata": {
    "ExecuteTime": {
     "end_time": "2018-06-07T03:41:30.681473Z",
     "start_time": "2018-06-07T03:41:27.765729Z"
    }
   },
   "outputs": [
    {
     "name": "stdout",
     "output_type": "stream",
     "text": [
      "INFO: Successfully Finished Getting Historical Data\n"
     ]
    }
   ],
   "source": [
    "import optimize"
   ]
  },
  {
   "cell_type": "code",
   "execution_count": 4,
   "metadata": {
    "ExecuteTime": {
     "end_time": "2018-06-07T11:31:34.760225Z",
     "start_time": "2018-06-07T03:58:15.859514Z"
    }
   },
   "outputs": [
    {
     "name": "stdout",
     "output_type": "stream",
     "text": [
      "Gen    1 | Run Time 617.274 | Min 0.000999011 | P50 0.246104931 | Max 1.544372290 | Num unique genes:     250\n",
      "Old Best {'genes': [4, 0, 1.5, 0.0, 1.0, 0.999, 0.884, 0.638, 0.999], 'fitness': -1} -1\n",
      "New Best {'genes': [4, 0, 1.5, 0.0321, 0.786, 0.999, 0.759, 0.0, 0.701], 'fitness': 1.544372289792} [('BNBBTC', 1.544372289792)]\n",
      "Gen    2 | Run Time 391.414 | Min 0.000999017 | P50 1.300569169 | Max 1.577985811 | Num unique genes:     511\n",
      "Old Best {'genes': [4, 0, 1.5, 0.0321, 0.786, 0.999, 0.759, 0.0, 0.701], 'fitness': 1.544372289792} [('BNBBTC', 1.544372289792)]\n",
      "New Best {'genes': [1, 1.4955, 1.472, 0.043, 0.095, 0.919, 0.341, 0.557, 0.454], 'fitness': 1.5779858106239997} [('BNBBTC', 1.5779858106239997)]\n",
      "Gen    3 | Run Time 352.751 | Min 0.000999017 | P50 1.476943466 | Max 1.577985811 | Num unique genes:     775\n",
      "Gen    4 | Run Time 374.043 | Min 0.000975287 | P50 1.314189455 | Max 1.577985811 | Num unique genes:    1039\n",
      "Gen    5 | Run Time 345.998 | Min 0.000999012 | P50 1.404419647 | Max 1.577985811 | Num unique genes:    1302\n",
      "Gen    6 | Run Time 342.806 | Min 0.000999359 | P50 1.404419647 | Max 1.577985811 | Num unique genes:    1564\n",
      "Gen    7 | Run Time 345.127 | Min 0.000999361 | P50 1.404419647 | Max 1.577985811 | Num unique genes:    1826\n",
      "Gen    8 | Run Time 340.323 | Min 0.000924841 | P50 1.577985811 | Max 1.577985811 | Num unique genes:    2090\n",
      "Gen    9 | Run Time 350.838 | Min 0.000999120 | P50 1.544372290 | Max 1.583702970 | Num unique genes:    2354\n",
      "Old Best {'genes': [1, 1.4955, 1.472, 0.043, 0.095, 0.919, 0.341, 0.557, 0.454], 'fitness': 1.5779858106239997} [('BNBBTC', 1.5779858106239997)]\n",
      "New Best {'genes': [1, 1.5, 0.0, 0.0, 0.165, 0.999, 0.346, 0.142, 0.857], 'fitness': 1.5837029695660003} [('BNBBTC', 1.5837029695660003)]\n",
      "Gen   10 | Run Time 339.259 | Min 0.000999008 | P50 1.314189455 | Max 1.609749665 | Num unique genes:    2619\n",
      "Old Best {'genes': [1, 1.5, 0.0, 0.0, 0.165, 0.999, 0.346, 0.142, 0.857], 'fitness': 1.5837029695660003} [('BNBBTC', 1.5837029695660003)]\n",
      "New Best {'genes': [1, 1.4762, 0.039, 0.0, 0.165, 0.999, 0.365, 0.166, 0.827], 'fitness': 1.6097496654419998} [('BNBBTC', 1.6097496654419998)]\n",
      "Gen   11 | Run Time 341.576 | Min 0.000999359 | P50 1.466602147 | Max 1.609749665 | Num unique genes:    2884\n",
      "Gen   12 | Run Time 330.504 | Min 0.000999017 | P50 1.466602147 | Max 1.650778676 | Num unique genes:    3147\n",
      "Old Best {'genes': [1, 1.4762, 0.039, 0.0, 0.165, 0.999, 0.365, 0.166, 0.827], 'fitness': 1.6097496654419998} [('BNBBTC', 1.6097496654419998)]\n",
      "New Best {'genes': [2, 1.4047, 0.033, 0.0417, 0.072, 0.999, 0.349, 0.317, 0.806], 'fitness': 1.6507786761840002} [('BNBBTC', 1.6507786761840002)]\n",
      "Gen   13 | Run Time 335.963 | Min 0.000999275 | P50 1.466602147 | Max 1.687872940 | Num unique genes:    3410\n",
      "Old Best {'genes': [2, 1.4047, 0.033, 0.0417, 0.072, 0.999, 0.349, 0.317, 0.806], 'fitness': 1.6507786761840002} [('BNBBTC', 1.6507786761840002)]\n",
      "New Best {'genes': [1, 1.3223, 0.049, 0.0805, 0.122, 0.999, 0.495, 0.28, 0.853], 'fitness': 1.687872940138} [('BNBBTC', 1.687872940138)]\n",
      "Gen   14 | Run Time 8474.701 | Min 0.000999359 | P50 1.461053136 | Max 1.687872940 | Num unique genes:    3674\n",
      "Gen   15 | Run Time 393.921 | Min 0.000999036 | P50 1.461053136 | Max 1.687872940 | Num unique genes:    3937\n",
      "Gen   16 | Run Time 341.636 | Min 0.000999017 | P50 1.436923373 | Max 1.687872940 | Num unique genes:    4201\n",
      "Gen   17 | Run Time 337.705 | Min 0.000999356 | P50 1.420444504 | Max 1.696953127 | Num unique genes:    4464\n",
      "Old Best {'genes': [1, 1.3223, 0.049, 0.0805, 0.122, 0.999, 0.495, 0.28, 0.853], 'fitness': 1.687872940138} [('BNBBTC', 1.687872940138)]\n",
      "New Best {'genes': [1, 1.5, 0.0, 0.0805, 0.112, 0.999, 0.495, 0.28, 0.89], 'fitness': 1.6969531274479999} [('BNBBTC', 1.6969531274479999)]\n",
      "Gen   18 | Run Time 356.318 | Min 0.000924840 | P50 1.461053136 | Max 1.696953127 | Num unique genes:    4726\n",
      "Gen   19 | Run Time 354.063 | Min 0.000999015 | P50 1.461053136 | Max 1.696953127 | Num unique genes:    4989\n",
      "Gen   20 | Run Time 360.706 | Min 0.000999017 | P50 1.444990579 | Max 1.696953127 | Num unique genes:    5252\n",
      "Gen   21 | Run Time 363.335 | Min 0.000999017 | P50 1.477649709 | Max 1.708908717 | Num unique genes:    5516\n",
      "Old Best {'genes': [1, 1.5, 0.0, 0.0805, 0.112, 0.999, 0.495, 0.28, 0.89], 'fitness': 1.6969531274479999} [('BNBBTC', 1.6969531274479999)]\n",
      "New Best {'genes': [1, 1.5, 0.033, 0.1474, 0.115, 0.989, 0.507, 0.259, 0.888], 'fitness': 1.708908717272} [('BNBBTC', 1.708908717272)]\n",
      "Gen   22 | Run Time 349.208 | Min 0.000999036 | P50 1.462263833 | Max 1.708908717 | Num unique genes:    5776\n",
      "Gen   23 | Run Time 337.020 | Min 0.016397192 | P50 1.461053136 | Max 1.708908717 | Num unique genes:    6039\n",
      "Gen   24 | Run Time 363.657 | Min 0.000999275 | P50 1.461053136 | Max 1.708908717 | Num unique genes:    6304\n",
      "Gen   25 | Run Time 341.552 | Min 0.000999355 | P50 1.440891755 | Max 1.708908717 | Num unique genes:    6567\n",
      "Gen   26 | Run Time 353.284 | Min 0.000999046 | P50 1.440891755 | Max 1.708908717 | Num unique genes:    6828\n",
      "Gen   27 | Run Time 355.347 | Min 0.000941651 | P50 1.461053136 | Max 1.708908717 | Num unique genes:    7087\n",
      "Gen   28 | Run Time 350.427 | Min 0.000999056 | P50 1.440891755 | Max 1.708908717 | Num unique genes:    7343\n",
      "Gen   29 | Run Time 343.612 | Min 0.000999017 | P50 1.470772301 | Max 1.708908717 | Num unique genes:    7599\n",
      "Gen   30 | Run Time 349.685 | Min 0.000891211 | P50 1.466602147 | Max 1.708908717 | Num unique genes:    7859\n",
      "Gen   31 | Run Time 356.516 | Min 0.000999118 | P50 1.455991776 | Max 1.708908717 | Num unique genes:    8116\n",
      "Gen   32 | Run Time 347.754 | Min 0.000999017 | P50 1.425455428 | Max 1.708908717 | Num unique genes:    8372\n",
      "Gen   33 | Run Time 347.407 | Min 0.000999389 | P50 1.440891755 | Max 1.708908717 | Num unique genes:    8630\n",
      "Gen   34 | Run Time 351.613 | Min 0.000999111 | P50 1.462263833 | Max 1.708908717 | Num unique genes:    8883\n",
      "Gen   35 | Run Time 332.237 | Min 0.000999038 | P50 1.476943466 | Max 1.708908717 | Num unique genes:    9137\n",
      "Gen   36 | Run Time 347.643 | Min 0.000999191 | P50 1.455991771 | Max 1.708908717 | Num unique genes:    9391\n",
      "Gen   37 | Run Time 357.626 | Min 0.000908029 | P50 1.458228192 | Max 1.708908717 | Num unique genes:    9645\n",
      "Gen   38 | Run Time 346.467 | Min 0.000999017 | P50 1.428297187 | Max 1.708908717 | Num unique genes:    9903\n",
      "Gen   39 | Run Time 350.933 | Min 0.000999011 | P50 1.440891755 | Max 1.708908717 | Num unique genes:   10157\n",
      "Gen   40 | Run Time 346.933 | Min 0.000999038 | P50 1.455991776 | Max 1.708908717 | Num unique genes:   10414\n",
      "Gen   41 | Run Time 337.187 | Min 0.000999105 | P50 1.461053136 | Max 1.708908717 | Num unique genes:   10672\n",
      "Gen   42 | Run Time 378.884 | Min 0.000999017 | P50 1.461053136 | Max 1.708908717 | Num unique genes:   10929\n",
      "Gen   43 | Run Time 354.683 | Min 0.000999365 | P50 1.439546538 | Max 1.708908717 | Num unique genes:   11190\n",
      "Gen   44 | Run Time 392.516 | Min 0.000999067 | P50 1.440891755 | Max 1.708908717 | Num unique genes:   11445\n",
      "Gen   45 | Run Time 585.909 | Min 0.000999017 | P50 1.440891755 | Max 1.708908717 | Num unique genes:   11700\n",
      "Gen   46 | Run Time 572.313 | Min 0.000999033 | P50 1.466602147 | Max 1.708908717 | Num unique genes:   11952\n",
      "Gen   47 | Run Time 537.695 | Min 0.000999040 | P50 1.440891755 | Max 1.708908717 | Num unique genes:   12208\n",
      "Gen   48 | Run Time 541.058 | Min 0.000999107 | P50 1.449669271 | Max 1.708908717 | Num unique genes:   12461\n",
      "Gen   49 | Run Time 529.492 | Min 0.000999276 | P50 1.440891755 | Max 1.708908717 | Num unique genes:   12711\n",
      "Gen   50 | Run Time 527.448 | Min 0.000999352 | P50 1.461053136 | Max 1.708908717 | Num unique genes:   12964\n",
      "Best {'genes': [1, 1.5, 0.033, 0.1474, 0.115, 0.989, 0.507, 0.259, 0.888], 'fitness': 1.708908717272} [('BNBBTC', 1.708908717272)]\n",
      "Num unique genes 1\n"
     ]
    }
   ],
   "source": [
    "best, saved_genes = optimize.ga_optimize(seed=False, population_size=50, generations=50)"
   ]
  },
  {
   "cell_type": "code",
   "execution_count": 15,
   "metadata": {
    "ExecuteTime": {
     "end_time": "2018-06-07T20:49:55.309856Z",
     "start_time": "2018-06-07T20:49:38.700541Z"
    }
   },
   "outputs": [
    {
     "data": {
      "text/html": [
       "<div>\n",
       "<style scoped>\n",
       "    .dataframe tbody tr th:only-of-type {\n",
       "        vertical-align: middle;\n",
       "    }\n",
       "\n",
       "    .dataframe tbody tr th {\n",
       "        vertical-align: top;\n",
       "    }\n",
       "\n",
       "    .dataframe thead th {\n",
       "        text-align: right;\n",
       "    }\n",
       "</style>\n",
       "<table border=\"1\" class=\"dataframe\">\n",
       "  <thead>\n",
       "    <tr style=\"text-align: right;\">\n",
       "      <th></th>\n",
       "      <th>1</th>\n",
       "      <th>2</th>\n",
       "      <th>3</th>\n",
       "      <th>4</th>\n",
       "      <th>5</th>\n",
       "      <th>6</th>\n",
       "      <th>7</th>\n",
       "      <th>8</th>\n",
       "      <th>9</th>\n",
       "      <th>F</th>\n",
       "    </tr>\n",
       "  </thead>\n",
       "  <tbody>\n",
       "    <tr>\n",
       "      <th>0</th>\n",
       "      <td>10</td>\n",
       "      <td>0.8247</td>\n",
       "      <td>0.094</td>\n",
       "      <td>0.9698</td>\n",
       "      <td>0.687</td>\n",
       "      <td>0.365</td>\n",
       "      <td>0.362</td>\n",
       "      <td>0.361</td>\n",
       "      <td>0.356</td>\n",
       "      <td>1.951955</td>\n",
       "    </tr>\n",
       "    <tr>\n",
       "      <th>0</th>\n",
       "      <td>4</td>\n",
       "      <td>0.0000</td>\n",
       "      <td>1.500</td>\n",
       "      <td>0.0000</td>\n",
       "      <td>1.000</td>\n",
       "      <td>0.999</td>\n",
       "      <td>0.884</td>\n",
       "      <td>0.638</td>\n",
       "      <td>0.999</td>\n",
       "      <td>1.288714</td>\n",
       "    </tr>\n",
       "    <tr>\n",
       "      <th>0</th>\n",
       "      <td>3</td>\n",
       "      <td>1.5000</td>\n",
       "      <td>0.000</td>\n",
       "      <td>1.2418</td>\n",
       "      <td>0.952</td>\n",
       "      <td>0.999</td>\n",
       "      <td>0.999</td>\n",
       "      <td>0.999</td>\n",
       "      <td>0.896</td>\n",
       "      <td>0.094517</td>\n",
       "    </tr>\n",
       "    <tr>\n",
       "      <th>0</th>\n",
       "      <td>1</td>\n",
       "      <td>1.5000</td>\n",
       "      <td>1.500</td>\n",
       "      <td>1.3795</td>\n",
       "      <td>1.000</td>\n",
       "      <td>0.655</td>\n",
       "      <td>0.711</td>\n",
       "      <td>0.946</td>\n",
       "      <td>0.999</td>\n",
       "      <td>0.043577</td>\n",
       "    </tr>\n",
       "    <tr>\n",
       "      <th>0</th>\n",
       "      <td>12</td>\n",
       "      <td>0.0499</td>\n",
       "      <td>1.500</td>\n",
       "      <td>1.5000</td>\n",
       "      <td>1.000</td>\n",
       "      <td>0.000</td>\n",
       "      <td>0.567</td>\n",
       "      <td>0.963</td>\n",
       "      <td>0.000</td>\n",
       "      <td>0.000999</td>\n",
       "    </tr>\n",
       "  </tbody>\n",
       "</table>\n",
       "</div>"
      ],
      "text/plain": [
       "    1       2      3       4      5      6      7      8      9         F\n",
       "0  10  0.8247  0.094  0.9698  0.687  0.365  0.362  0.361  0.356  1.951955\n",
       "0   4  0.0000  1.500  0.0000  1.000  0.999  0.884  0.638  0.999  1.288714\n",
       "0   3  1.5000  0.000  1.2418  0.952  0.999  0.999  0.999  0.896  0.094517\n",
       "0   1  1.5000  1.500  1.3795  1.000  0.655  0.711  0.946  0.999  0.043577\n",
       "0  12  0.0499  1.500  1.5000  1.000  0.000  0.567  0.963  0.000  0.000999"
      ]
     },
     "execution_count": 15,
     "metadata": {},
     "output_type": "execute_result"
    }
   ],
   "source": [
    "gadf = pd.DataFrame(\n",
    "    [[\n",
    "        10, 0.8247, 0.094, 0.9698, 0.687, 0.365, 0.362, 0.361, 0.356,\n",
    "        1.9519551477388317\n",
    "    ]],\n",
    "    columns=list('123456789F'))\n",
    "\n",
    "for genes, fitness in saved_genes[0].items():\n",
    "    gadf = gadf.append(\n",
    "        pd.DataFrame([ast.literal_eval(genes) + [fitness]], columns=list('123456789F')))\n",
    "    \n",
    "gadf.head()"
   ]
  },
  {
   "cell_type": "code",
   "execution_count": 21,
   "metadata": {
    "ExecuteTime": {
     "end_time": "2018-06-07T21:04:05.722729Z",
     "start_time": "2018-06-07T21:04:05.631622Z"
    }
   },
   "outputs": [
    {
     "name": "stdout",
     "output_type": "stream",
     "text": [
      "1      12\n",
      "2    3630\n",
      "3    1272\n",
      "4    4165\n",
      "5     890\n",
      "6     773\n",
      "7     972\n",
      "8     965\n",
      "9     916\n",
      "F    2392\n",
      "dtype: int64\n"
     ]
    },
    {
     "data": {
      "text/html": [
       "<div>\n",
       "<style scoped>\n",
       "    .dataframe tbody tr th:only-of-type {\n",
       "        vertical-align: middle;\n",
       "    }\n",
       "\n",
       "    .dataframe tbody tr th {\n",
       "        vertical-align: top;\n",
       "    }\n",
       "\n",
       "    .dataframe thead th {\n",
       "        text-align: right;\n",
       "    }\n",
       "</style>\n",
       "<table border=\"1\" class=\"dataframe\">\n",
       "  <thead>\n",
       "    <tr style=\"text-align: right;\">\n",
       "      <th></th>\n",
       "      <th>1</th>\n",
       "      <th>2</th>\n",
       "      <th>3</th>\n",
       "      <th>4</th>\n",
       "      <th>5</th>\n",
       "      <th>6</th>\n",
       "      <th>7</th>\n",
       "      <th>8</th>\n",
       "      <th>9</th>\n",
       "      <th>F</th>\n",
       "    </tr>\n",
       "  </thead>\n",
       "  <tbody>\n",
       "    <tr>\n",
       "      <th>count</th>\n",
       "      <td>12965.000000</td>\n",
       "      <td>12965.00000</td>\n",
       "      <td>12965.000000</td>\n",
       "      <td>12965.000000</td>\n",
       "      <td>12965.000000</td>\n",
       "      <td>12965.000000</td>\n",
       "      <td>12965.000000</td>\n",
       "      <td>12965.00000</td>\n",
       "      <td>12965.000000</td>\n",
       "      <td>12965.000000</td>\n",
       "    </tr>\n",
       "    <tr>\n",
       "      <th>mean</th>\n",
       "      <td>1.711300</td>\n",
       "      <td>1.33494</td>\n",
       "      <td>0.359127</td>\n",
       "      <td>0.190388</td>\n",
       "      <td>0.185423</td>\n",
       "      <td>0.913390</td>\n",
       "      <td>0.465541</td>\n",
       "      <td>0.33396</td>\n",
       "      <td>0.772220</td>\n",
       "      <td>1.364767</td>\n",
       "    </tr>\n",
       "    <tr>\n",
       "      <th>std</th>\n",
       "      <td>1.891381</td>\n",
       "      <td>0.33843</td>\n",
       "      <td>0.547635</td>\n",
       "      <td>0.286261</td>\n",
       "      <td>0.215708</td>\n",
       "      <td>0.180228</td>\n",
       "      <td>0.222665</td>\n",
       "      <td>0.24057</td>\n",
       "      <td>0.233295</td>\n",
       "      <td>0.339612</td>\n",
       "    </tr>\n",
       "    <tr>\n",
       "      <th>min</th>\n",
       "      <td>1.000000</td>\n",
       "      <td>0.00000</td>\n",
       "      <td>0.000000</td>\n",
       "      <td>0.000000</td>\n",
       "      <td>0.001000</td>\n",
       "      <td>0.000000</td>\n",
       "      <td>0.000000</td>\n",
       "      <td>0.00000</td>\n",
       "      <td>0.000000</td>\n",
       "      <td>0.000891</td>\n",
       "    </tr>\n",
       "    <tr>\n",
       "      <th>25%</th>\n",
       "      <td>1.000000</td>\n",
       "      <td>1.33830</td>\n",
       "      <td>0.000000</td>\n",
       "      <td>0.008400</td>\n",
       "      <td>0.082000</td>\n",
       "      <td>0.924000</td>\n",
       "      <td>0.353000</td>\n",
       "      <td>0.21500</td>\n",
       "      <td>0.686000</td>\n",
       "      <td>1.288714</td>\n",
       "    </tr>\n",
       "    <tr>\n",
       "      <th>50%</th>\n",
       "      <td>1.000000</td>\n",
       "      <td>1.49440</td>\n",
       "      <td>0.042000</td>\n",
       "      <td>0.105100</td>\n",
       "      <td>0.119000</td>\n",
       "      <td>0.990000</td>\n",
       "      <td>0.493000</td>\n",
       "      <td>0.27300</td>\n",
       "      <td>0.871000</td>\n",
       "      <td>1.378961</td>\n",
       "    </tr>\n",
       "    <tr>\n",
       "      <th>75%</th>\n",
       "      <td>1.000000</td>\n",
       "      <td>1.50000</td>\n",
       "      <td>0.472000</td>\n",
       "      <td>0.190900</td>\n",
       "      <td>0.202000</td>\n",
       "      <td>0.999000</td>\n",
       "      <td>0.536000</td>\n",
       "      <td>0.42500</td>\n",
       "      <td>0.904000</td>\n",
       "      <td>1.583703</td>\n",
       "    </tr>\n",
       "    <tr>\n",
       "      <th>max</th>\n",
       "      <td>12.000000</td>\n",
       "      <td>1.50000</td>\n",
       "      <td>1.500000</td>\n",
       "      <td>1.500000</td>\n",
       "      <td>1.000000</td>\n",
       "      <td>0.999000</td>\n",
       "      <td>0.999000</td>\n",
       "      <td>0.99900</td>\n",
       "      <td>0.999000</td>\n",
       "      <td>1.951955</td>\n",
       "    </tr>\n",
       "  </tbody>\n",
       "</table>\n",
       "</div>"
      ],
      "text/plain": [
       "                  1            2             3             4             5  \\\n",
       "count  12965.000000  12965.00000  12965.000000  12965.000000  12965.000000   \n",
       "mean       1.711300      1.33494      0.359127      0.190388      0.185423   \n",
       "std        1.891381      0.33843      0.547635      0.286261      0.215708   \n",
       "min        1.000000      0.00000      0.000000      0.000000      0.001000   \n",
       "25%        1.000000      1.33830      0.000000      0.008400      0.082000   \n",
       "50%        1.000000      1.49440      0.042000      0.105100      0.119000   \n",
       "75%        1.000000      1.50000      0.472000      0.190900      0.202000   \n",
       "max       12.000000      1.50000      1.500000      1.500000      1.000000   \n",
       "\n",
       "                  6             7            8             9             F  \n",
       "count  12965.000000  12965.000000  12965.00000  12965.000000  12965.000000  \n",
       "mean       0.913390      0.465541      0.33396      0.772220      1.364767  \n",
       "std        0.180228      0.222665      0.24057      0.233295      0.339612  \n",
       "min        0.000000      0.000000      0.00000      0.000000      0.000891  \n",
       "25%        0.924000      0.353000      0.21500      0.686000      1.288714  \n",
       "50%        0.990000      0.493000      0.27300      0.871000      1.378961  \n",
       "75%        0.999000      0.536000      0.42500      0.904000      1.583703  \n",
       "max        0.999000      0.999000      0.99900      0.999000      1.951955  "
      ]
     },
     "execution_count": 21,
     "metadata": {},
     "output_type": "execute_result"
    }
   ],
   "source": [
    "print(gadf.nunique())\n",
    "gadf.describe()"
   ]
  },
  {
   "cell_type": "code",
   "execution_count": 28,
   "metadata": {
    "ExecuteTime": {
     "end_time": "2018-06-07T21:30:13.579328Z",
     "start_time": "2018-06-07T21:30:13.567548Z"
    }
   },
   "outputs": [
    {
     "data": {
      "text/plain": [
       "(array([1102.68241633, 2842.61375451,  184.00228092, 6200.21679725,\n",
       "         730.72625614, 1872.1824176 ,   41.11718766,  392.06676686,\n",
       "         214.92372268]),\n",
       " array([3.93190011e-232, 0.00000000e+000, 1.24618469e-041, 0.00000000e+000,\n",
       "        1.30973349e-156, 0.00000000e+000, 1.48343733e-010, 5.45123594e-086,\n",
       "        2.81796474e-048]))"
      ]
     },
     "execution_count": 28,
     "metadata": {},
     "output_type": "execute_result"
    }
   ],
   "source": [
    "#Feature Importance with Extra Trees Classifier\n",
    "from sklearn.feature_selection import f_regression\n",
    "array = gadf.values\n",
    "X = array[:,0:9]\n",
    "Y = array[:,9]\n",
    "\n",
    "f_regression(X, Y)"
   ]
  },
  {
   "cell_type": "code",
   "execution_count": null,
   "metadata": {},
   "outputs": [],
   "source": []
  }
 ],
 "metadata": {
  "kernelspec": {
   "display_name": "Python 3",
   "language": "python",
   "name": "python3"
  },
  "language_info": {
   "codemirror_mode": {
    "name": "ipython",
    "version": 3
   },
   "file_extension": ".py",
   "mimetype": "text/x-python",
   "name": "python",
   "nbconvert_exporter": "python",
   "pygments_lexer": "ipython3",
   "version": "3.6.5"
  }
 },
 "nbformat": 4,
 "nbformat_minor": 2
}
