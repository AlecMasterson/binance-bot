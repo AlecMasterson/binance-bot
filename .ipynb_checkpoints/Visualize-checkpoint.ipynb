{
 "cells": [
  {
   "cell_type": "code",
   "execution_count": 1,
   "metadata": {
    "ExecuteTime": {
     "end_time": "2018-08-18T02:39:40.411731Z",
     "start_time": "2018-08-18T02:39:39.491665Z"
    },
    "hide_input": true
   },
   "outputs": [
    {
     "data": {
      "text/html": [
       "<script>requirejs.config({paths: { 'plotly': ['https://cdn.plot.ly/plotly-latest.min']},});if(!window.Plotly) {{require(['plotly'],function(plotly) {window.Plotly=plotly;});}}</script>"
      ],
      "text/vnd.plotly.v1+html": [
       "<script>requirejs.config({paths: { 'plotly': ['https://cdn.plot.ly/plotly-latest.min']},});if(!window.Plotly) {{require(['plotly'],function(plotly) {window.Plotly=plotly;});}}</script>"
      ]
     },
     "metadata": {},
     "output_type": "display_data"
    }
   ],
   "source": [
    "import pandas as pd\n",
    "from sklearn.preprocessing import minmax_scale\n",
    "import numpy as np\n",
    "import plotly.offline as py\n",
    "import plotly.graph_objs as go\n",
    "py.init_notebook_mode(connected=True)"
   ]
  },
  {
   "cell_type": "code",
   "execution_count": null,
   "metadata": {
    "ExecuteTime": {
     "start_time": "2018-08-18T02:39:39.475Z"
    },
    "hide_input": true
   },
   "outputs": [],
   "source": [
    "!python agents/lstm.py --test"
   ]
  },
  {
   "cell_type": "code",
   "execution_count": null,
   "metadata": {
    "ExecuteTime": {
     "start_time": "2018-08-18T02:39:39.477Z"
    },
    "hide_input": true
   },
   "outputs": [],
   "source": [
    "run = pd.read_csv('agents/save/dqn_run.csv')\n",
    "mmrun = pd.DataFrame(minmax_scale(run), columns=run.columns)"
   ]
  },
  {
   "cell_type": "code",
   "execution_count": null,
   "metadata": {
    "ExecuteTime": {
     "start_time": "2018-08-18T02:39:39.480Z"
    },
    "hide_input": true
   },
   "outputs": [],
   "source": [
    "data = [\n",
    "    go.Scatter(\n",
    "        x=list(range(0, len(run))),\n",
    "        y=run['open'].pct_change(periods=1000),\n",
    "        name='pct 1000'),\n",
    "    go.Scatter(\n",
    "        x=list(range(0, len(run))),\n",
    "        y=run['open'].pct_change(periods=100),\n",
    "        name='pct 100'),\n",
    "    go.Scatter(\n",
    "        x=list(range(0, len(run))),\n",
    "        y=run['open'].pct_change(periods=10),\n",
    "        name='pct 10'),\n",
    "    go.Scatter(\n",
    "        x=list(range(0, len(run))),\n",
    "        y=run['open'].pct_change(periods=1),\n",
    "        name='pct 1')\n",
    "]\n",
    "s = [{\n",
    "    'type': 'line',\n",
    "    'x0': 0,\n",
    "    'y0': 0.01,\n",
    "    'x1': len(run),\n",
    "    'y1': 0.01,\n",
    "    'opacity': 1.0,\n",
    "    'line': {\n",
    "        'color': 'rgb(0, 0, 0)',\n",
    "        'width': 1\n",
    "    }\n",
    "},{\n",
    "    'type': 'line',\n",
    "    'x0': 0,\n",
    "    'y0': -0.01,\n",
    "    'x1': len(run),\n",
    "    'y1': -0.01,\n",
    "    'opacity': 1.0,\n",
    "    'line': {\n",
    "        'color': 'rgb(0, 0, 0)',\n",
    "        'width': 1\n",
    "    }\n",
    "}]\n",
    "\n",
    "layout = {'shapes': s}\n",
    "py.iplot({'data': data, 'layout': layout})"
   ]
  },
  {
   "cell_type": "code",
   "execution_count": null,
   "metadata": {
    "ExecuteTime": {
     "start_time": "2018-08-18T02:39:39.483Z"
    },
    "hide_input": true
   },
   "outputs": [],
   "source": [
    "yd = mmrun['open']\n",
    "data = [\n",
    "    go.Scatter(\n",
    "        x=list(range(0, len(run))),\n",
    "        y=mmrun['total_reward'],\n",
    "        name='Total Reward'\n",
    "    ),\n",
    "    go.Scatter(\n",
    "        x=list(range(0, len(run))),\n",
    "        y=run['total_value'],\n",
    "        name='Total Value'\n",
    "    ),\n",
    "    go.Scatter(\n",
    "        x=list(range(0, len(run))),\n",
    "        y=yd,\n",
    "        name='Open'\n",
    "    )\n",
    "]\n",
    "s = []\n",
    "for e, i in enumerate(run['action']):\n",
    "    if i == 0 and run['swap'].iloc[e] == 1:\n",
    "        s += [{\n",
    "            'type': 'line',\n",
    "            'x0': e,\n",
    "            'y0': 0,\n",
    "            'x1': e,\n",
    "            'y1': yd.iloc[e]*1.1,\n",
    "            'opacity': 1,\n",
    "            'line': {\n",
    "                'color': 'rgb(100, 255, 100)',\n",
    "                'width': 1,\n",
    "            }\n",
    "        }]\n",
    "    elif i == 0 and run['swap'].iloc[e] == 0:\n",
    "        s += [{\n",
    "            'type': 'line',\n",
    "            'x0': e,\n",
    "            'y0': 0,\n",
    "            'x1': e,\n",
    "            'y1': yd.iloc[e]*1.1,\n",
    "            'opacity': 1,\n",
    "            'line': {\n",
    "                'color': 'rgb(255, 100, 100)',\n",
    "                'width': 1,\n",
    "            }\n",
    "        }]\n",
    "layout = {\n",
    "    'shapes': s\n",
    "    }\n",
    "py.iplot({'data': data, 'layout': layout})"
   ]
  },
  {
   "cell_type": "code",
   "execution_count": null,
   "metadata": {
    "ExecuteTime": {
     "start_time": "2018-08-18T02:39:39.487Z"
    },
    "hide_input": true
   },
   "outputs": [],
   "source": [
    "yd = mmrun['open']\n",
    "data = [\n",
    "    go.Scatter(\n",
    "        x=list(range(0, len(run))),\n",
    "        y=mmrun['trade_act_values'],\n",
    "        name='Trade minmaxed'\n",
    "    ),\n",
    "    go.Scatter(\n",
    "        x=list(range(0, len(run))),\n",
    "        y=mmrun['hold_act_values'],\n",
    "        name='Hold minmaxed'\n",
    "    ),\n",
    "    go.Scatter(\n",
    "        x=list(range(0, len(run))),\n",
    "        y=yd,\n",
    "        name='Open minmaxed'\n",
    "    )\n",
    "]\n",
    "s = []\n",
    "for e, i in enumerate(run['action']):\n",
    "    if i == 0 and run['swap'].iloc[e] == 1:\n",
    "        s += [{\n",
    "            'type': 'line',\n",
    "            'x0': e,\n",
    "            'y0': 0,\n",
    "            'x1': e,\n",
    "            'y1': yd.iloc[e]*1.1,\n",
    "            'opacity': 1,\n",
    "            'line': {\n",
    "                'color': 'rgb(100, 255, 100)',\n",
    "                'width': 1,\n",
    "            }\n",
    "        }]\n",
    "    elif i == 0 and run['swap'].iloc[e] == 0:\n",
    "        s += [{\n",
    "            'type': 'line',\n",
    "            'x0': e,\n",
    "            'y0': 0,\n",
    "            'x1': e,\n",
    "            'y1': yd.iloc[e]*1.1,\n",
    "            'opacity': 1,\n",
    "            'line': {\n",
    "                'color': 'rgb(255, 100, 100)',\n",
    "                'width': 1,\n",
    "            }\n",
    "        }]\n",
    "layout = {\n",
    "    'shapes': s\n",
    "    }\n",
    "py.iplot({'data': data, 'layout': layout})"
   ]
  },
  {
   "cell_type": "code",
   "execution_count": null,
   "metadata": {
    "ExecuteTime": {
     "start_time": "2018-08-18T02:39:39.490Z"
    },
    "hide_input": true
   },
   "outputs": [],
   "source": [
    "yd = mmrun['open']\n",
    "data = [\n",
    "    go.Scatter(\n",
    "        x=list(range(0, len(run))),\n",
    "        y=run['reward'],\n",
    "        name='Reward'\n",
    "    ),\n",
    "    go.Scatter(\n",
    "        x=list(range(0, len(run))),\n",
    "        y=run['trade_act_values'],\n",
    "        name='Trade'\n",
    "    ),\n",
    "    go.Scatter(\n",
    "        x=list(range(0, len(run))),\n",
    "        y=run['hold_act_values'],\n",
    "        name='Hold'\n",
    "    ),\n",
    "    go.Scatter(\n",
    "        x=list(range(0, len(run))),\n",
    "        y=yd,\n",
    "        name='Open'\n",
    "    ),\n",
    "    go.Scatter(\n",
    "        x=list(range(0, len(run))),\n",
    "        y=run['total_value'],\n",
    "        name='BTC'\n",
    "    ),\n",
    "]\n",
    "s = []\n",
    "for e, i in enumerate(run['action']):\n",
    "    if i == 0 and run['swap'].iloc[e] == 1:\n",
    "        s += [{\n",
    "            'type': 'line',\n",
    "            'x0': e,\n",
    "            'y0': 0,\n",
    "            'x1': e,\n",
    "            'y1': yd.iloc[e]*1.1,\n",
    "            'opacity': 1,\n",
    "            'line': {\n",
    "                'color': 'rgb(100, 255, 100)',\n",
    "                'width': 1,\n",
    "            }\n",
    "        }]\n",
    "    elif i == 0 and run['swap'].iloc[e] == 0:\n",
    "        s += [{\n",
    "            'type': 'line',\n",
    "            'x0': e,\n",
    "            'y0': 0,\n",
    "            'x1': e,\n",
    "            'y1': yd.iloc[e]*1.1,\n",
    "            'opacity': 1,\n",
    "            'line': {\n",
    "                'color': 'rgb(255, 100, 100)',\n",
    "                'width': 1,\n",
    "            }\n",
    "        }]\n",
    "layout = {\n",
    "    'shapes': s\n",
    "    }\n",
    "py.iplot({'data': data, 'layout': layout})"
   ]
  },
  {
   "cell_type": "code",
   "execution_count": null,
   "metadata": {},
   "outputs": [],
   "source": []
  }
 ],
 "metadata": {
  "kernelspec": {
   "display_name": "Python 3",
   "language": "python",
   "name": "python3"
  },
  "language_info": {
   "codemirror_mode": {
    "name": "ipython",
    "version": 3
   },
   "file_extension": ".py",
   "mimetype": "text/x-python",
   "name": "python",
   "nbconvert_exporter": "python",
   "pygments_lexer": "ipython3",
   "version": "3.6.6"
  },
  "notify_time": "0"
 },
 "nbformat": 4,
 "nbformat_minor": 2
}
