{
 "cells": [
  {
   "cell_type": "code",
   "execution_count": 1,
   "metadata": {
    "ExecuteTime": {
     "end_time": "2018-06-07T03:35:11.850844Z",
     "start_time": "2018-06-07T03:35:05.631005Z"
    }
   },
   "outputs": [
    {
     "name": "stdout",
     "output_type": "stream",
     "text": [
      "INFO: Successfully Finished Getting Historical Data\n"
     ]
    }
   ],
   "source": [
    "import itertools\n",
    "import math\n",
    "import multiprocessing\n",
    "import random\n",
    "import time\n",
    "from copy import deepcopy\n",
    "\n",
    "import matplotlib.pyplot as plt\n",
    "import numpy as np\n",
    "import pandas as pd\n",
    "from sklearn.decomposition import PCA\n",
    "from sklearn.preprocessing import StandardScaler\n",
    "\n",
    "import utilities\n",
    "from Bot import Bot\n",
    "\n",
    "bot = Bot(online=False, optimize=True)"
   ]
  },
  {
   "cell_type": "code",
   "execution_count": 2,
   "metadata": {
    "ExecuteTime": {
     "end_time": "2018-06-06T19:01:21.168540Z",
     "start_time": "2018-06-06T19:01:21.160205Z"
    }
   },
   "outputs": [
    {
     "data": {
      "text/plain": [
       "0"
      ]
     },
     "execution_count": 2,
     "metadata": {},
     "output_type": "execute_result"
    }
   ],
   "source": [
    "space = 1\n",
    "# [1, 12] Integers\n",
    "space *= len(np.arange(1, 12, 1))+1\n",
    "# [1.0030, 1.0500] 4 Decimal places\n",
    "space *= len(np.arange(1.0030, 1.0500, 0.0001))+1\n",
    "# [0.000, 0.050] 3 Decimal places\n",
    "space *= len(np.arange(0, 0.05, 0.001))+1\n",
    "# [0.9500, 0.9999] # 4 Decimal places\n",
    "space *= len(np.arange(0.9500, 0.9999, 0.0001))+1\n",
    "# [0.001, 1.000] 3 Decimal Places\n",
    "space *= len(np.arange(0.001, 1, 0.001))+1\n",
    "# [0.000, 0.999] 3 Decimal Places\n",
    "space *= len(np.arange(0.001, 0.999, 0.001))+1\n",
    "\n",
    "# These 3 need to sum to 1.0 or close to. 0.999 works too.\n",
    "# [0.000, 0.999] 3 Decimal Places\n",
    "space *= len(np.arange(0.001, 0.999, 0.001))+1\n",
    "# [0.000, 0.999] 3 Decimal Places\n",
    "space *= len(np.arange(0.001, 0.999, 0.001))+1\n",
    "# [0.000, 0.999] 3 Decimal Places\n",
    "space *= len(np.arange(0.001, 0.999, 0.001))+1\n",
    "space"
   ]
  },
  {
   "cell_type": "code",
   "execution_count": 69,
   "metadata": {
    "ExecuteTime": {
     "end_time": "2018-06-06T22:41:07.156509Z",
     "start_time": "2018-06-06T22:08:22.564786Z"
    }
   },
   "outputs": [
    {
     "name": "stdout",
     "output_type": "stream",
     "text": [
      "0 12\n",
      "1 49\n",
      "2 6509999999999946\n",
      "3 51\n",
      "4 101\n",
      "5 101999999999999945\n",
      "6 101999999999999945\n",
      "7 101999999999999945\n",
      "8 101999999999999945\n",
      "0.720999999999999945"
     ]
    },
    {
     "data": {
      "text/html": [
       "<b>limit_output extension: Maximum message size of 10000 exceeded with 10013 characters</b>"
      ]
     },
     "metadata": {},
     "output_type": "display_data"
    }
   ],
   "source": [
    "df = pd.DataFrame(\n",
    "    [[\n",
    "        10, 0.8247, 0.094, 0.9698, 0.687, 0.365, 0.362, 0.361, 0.356,\n",
    "        1.9519551477388317\n",
    "    ]],\n",
    "    columns=list('123456789F'))\n",
    "\n",
    "bg = [10, 0.8247, 0.094, 0.9698, 0.687, 0.365, 0.362, 0.361, 0.356]\n",
    "bgpm = [(1, 12, 1), (1.0030, 1.0500, 0.001), (0, 0.05, 0.01),\n",
    "        (0.9500, 0.9999, 0.001), (0.001, 1, 0.01), (0.001, 0.999, 0.01),\n",
    "        (0.001, 0.999, 0.01), (0.001, 0.999, 0.01), (0.001, 0.999, 0.01)]\n",
    "\n",
    "for i, g in enumerate(bg):\n",
    "    genes = deepcopy(bg)\n",
    "    print(i, len(np.arange(bgpm[i][0], bgpm[i][1] + bgpm[i][2], bgpm[i][2])))\n",
    "    for mu in list(np.arange(bgpm[i][0], bgpm[i][1] + bgpm[i][2], bgpm[i][2])):\n",
    "        print(mu, end=\"\\r\")\n",
    "        genes[i] = mu\n",
    "        utilities.set_optimized(genes[0], genes[1], genes[2], genes[3],\n",
    "                                genes[4], genes[5], genes[6], genes[7],\n",
    "                                genes[8])\n",
    "        fitness = bot.run_backtest(utilities.COINPAIRS[0])\n",
    "        df = df.append(\n",
    "            pd.DataFrame([genes + [fitness]], columns=list('123456789F')))"
   ]
  },
  {
   "cell_type": "code",
   "execution_count": 70,
   "metadata": {
    "ExecuteTime": {
     "end_time": "2018-06-06T22:45:10.144692Z",
     "start_time": "2018-06-06T22:45:10.132673Z"
    }
   },
   "outputs": [
    {
     "data": {
      "text/plain": [
       "1     12\n",
       "2     50\n",
       "3      7\n",
       "4     52\n",
       "5    102\n",
       "6    102\n",
       "7    102\n",
       "8    102\n",
       "9    102\n",
       "F     88\n",
       "dtype: int64"
      ]
     },
     "execution_count": 70,
     "metadata": {},
     "output_type": "execute_result"
    }
   ],
   "source": [
    "df.nunique()"
   ]
  },
  {
   "cell_type": "markdown",
   "metadata": {},
   "source": [
    "## Feature importance extraction via extra trees ensemble model"
   ]
  },
  {
   "cell_type": "code",
   "execution_count": 71,
   "metadata": {
    "ExecuteTime": {
     "end_time": "2018-06-06T22:45:29.480242Z",
     "start_time": "2018-06-06T22:45:27.815921Z"
    }
   },
   "outputs": [
    {
     "name": "stdout",
     "output_type": "stream",
     "text": [
      "[0.109 0.233 0.099 0.08  0.074 0.141 0.119 0.143]\n"
     ]
    }
   ],
   "source": [
    "# Feature Importance with Extra Trees Classifier\n",
    "from sklearn.ensemble import ExtraTreesClassifier\n",
    "array = dataframe.values\n",
    "X = array[:,0:8]\n",
    "Y = array[:,8]\n",
    "\n",
    "model = ExtraTreesClassifier(n_estimators=1000)\n",
    "model.fit(X, Y)\n",
    "print(model.feature_importances_)"
   ]
  },
  {
   "cell_type": "code",
   "execution_count": null,
   "metadata": {},
   "outputs": [],
   "source": []
  },
  {
   "cell_type": "code",
   "execution_count": 2,
   "metadata": {
    "ExecuteTime": {
     "end_time": "2018-06-07T03:35:11.946534Z",
     "start_time": "2018-06-07T03:35:11.853407Z"
    }
   },
   "outputs": [],
   "source": [
    "import optimize"
   ]
  },
  {
   "cell_type": "code",
   "execution_count": 4,
   "metadata": {
    "ExecuteTime": {
     "end_time": "2018-06-07T03:40:04.303769Z",
     "start_time": "2018-06-07T03:40:04.296391Z"
    }
   },
   "outputs": [
    {
     "ename": "SyntaxError",
     "evalue": "positional argument follows keyword argument (<ipython-input-4-83b6c8965bf8>, line 1)",
     "output_type": "error",
     "traceback": [
      "\u001b[0;36m  File \u001b[0;32m\"<ipython-input-4-83b6c8965bf8>\"\u001b[0;36m, line \u001b[0;32m1\u001b[0m\n\u001b[0;31m    best, saved_genes = optimize.ga_optimize(seed=False, 20, 10)\u001b[0m\n\u001b[0m                                                        ^\u001b[0m\n\u001b[0;31mSyntaxError\u001b[0m\u001b[0;31m:\u001b[0m positional argument follows keyword argument\n"
     ]
    }
   ],
   "source": [
    "best, saved_genes = optimize.ga_optimize(seed=False, population_size=20, generations=10)"
   ]
  },
  {
   "cell_type": "code",
   "execution_count": null,
   "metadata": {},
   "outputs": [],
   "source": []
  }
 ],
 "metadata": {
  "kernelspec": {
   "display_name": "Python 3",
   "language": "python",
   "name": "python3"
  },
  "language_info": {
   "codemirror_mode": {
    "name": "ipython",
    "version": 3
   },
   "file_extension": ".py",
   "mimetype": "text/x-python",
   "name": "python",
   "nbconvert_exporter": "python",
   "pygments_lexer": "ipython3",
   "version": "3.6.5"
  }
 },
 "nbformat": 4,
 "nbformat_minor": 2
}
